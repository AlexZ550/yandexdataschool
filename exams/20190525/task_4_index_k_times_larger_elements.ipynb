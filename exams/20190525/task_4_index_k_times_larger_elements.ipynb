{
 "cells": [
  {
   "cell_type": "markdown",
   "metadata": {},
   "source": [
    "# Statement"
   ]
  },
  {
   "cell_type": "markdown",
   "metadata": {},
   "source": [
    "Дан массив вещественных чисел A[1:n]. Предложите алгоритм, находящий для каждого элемента A индекс ближайшего справа элемента, большего его хотя бы в два раза. Если такого элемента нет, то должно возвращаться значение None. Ограничение по времени $O(n \\log n)$, по дополнительной памяти — $O(n)$."
   ]
  },
  {
   "cell_type": "markdown",
   "metadata": {},
   "source": [
    "# Solution"
   ]
  },
  {
   "cell_type": "code",
   "execution_count": 23,
   "metadata": {},
   "outputs": [],
   "source": [
    "def index_larger_elements_1(A, k=2):\n",
    "    # list of ratios between the current element and all subsequent ones\n",
    "    I = [None] * len(A)   # indexes\n",
    "    R = [None] * len(A)   # ratios\n",
    "    for i in range(len(A)):\n",
    "        for j in range(i, len(A)):\n",
    "            R[j] = A[j]/A[i]\n",
    "            if R[j] >= k:\n",
    "                I[i] = j\n",
    "                break\n",
    "    return(I)"
   ]
  },
  {
   "cell_type": "code",
   "execution_count": 11,
   "metadata": {},
   "outputs": [],
   "source": [
    "def index_larger_elements_2(A, k=2):\n",
    "    # list of ratios between the first element and all the others\n",
    "    R = [None] * len(A)   # ratios\n",
    "    I = [None] * len(A)   # indexes\n",
    "    max_a = max(A)\n",
    "    for i in range(0, len(A)):\n",
    "        if i > 0:\n",
    "            # if there is no solution for the previous element which is smaller,\n",
    "            # there is no solution for the current one\n",
    "            if A[i] >= A[i-1] and I[i-1] is None:\n",
    "                I[i] = None\n",
    "                continue\n",
    "        if max_a/A[i] < k:\n",
    "            continue\n",
    "        for j in range(i, len(A)):\n",
    "            R[j] = A[j]/A[i]\n",
    "            if R[j] >= k:\n",
    "                I[i] = j\n",
    "                break\n",
    "    return(I)"
   ]
  },
  {
   "cell_type": "code",
   "execution_count": 12,
   "metadata": {},
   "outputs": [],
   "source": [
    "def index_larger_elements_3(A, k=2):\n",
    "    I = [None] * len(A)   # indexes\n",
    "    max_a = max(A)\n",
    "    for i in range(0, len(A)):\n",
    "        if i > 0:\n",
    "            # if there is no solution for the previous element which is smaller,\n",
    "            # there is no solution for the current one\n",
    "            if A[i] >= A[i-1] and I[i-1] is None:\n",
    "                I[i] = None\n",
    "                continue\n",
    "        if max_a/A[i] < k:\n",
    "            continue\n",
    "        for j in range(i, len(A)):\n",
    "            if A[j]/A[i] >= k:\n",
    "                I[i] = j\n",
    "                break\n",
    "    return(I)"
   ]
  },
  {
   "cell_type": "code",
   "execution_count": 55,
   "metadata": {},
   "outputs": [],
   "source": [
    "def index_larger_elements_4(A, k=2):\n",
    "    \n",
    "    I = [None] * len(A)   # indexes\n",
    "    n = len(A)\n",
    "    \n",
    "    for i in range(2, n+1):\n",
    "        if i > 2 and A[n-i] >= A[n-i+1]:\n",
    "            start_index = I[n-i+1]\n",
    "        else:\n",
    "            start_index = n-i+1\n",
    "        if start_index is None:\n",
    "            continue\n",
    "        for j in range(start_index, n):\n",
    "            if A[j]/A[n-i] >= k:\n",
    "                I[n-i] = j\n",
    "                break\n",
    "    return(I)"
   ]
  },
  {
   "cell_type": "code",
   "execution_count": 57,
   "metadata": {},
   "outputs": [],
   "source": [
    "# does not work so far\n",
    "\n",
    "def index_larger_elements_5(A, k=2):\n",
    "    \n",
    "    I = [None] * len(A)   # indexes\n",
    "    n = len(A)\n",
    "    \n",
    "    def search_start_index(a, i):\n",
    "        \n",
    "        if i == 1:\n",
    "            return(1)\n",
    "\n",
    "        if i > 2 and a >= A[n-i+1]:\n",
    "            start_index = search_start_index(a, I[n-i+1])\n",
    "        else:\n",
    "            start_index = n-i+1\n",
    "            \n",
    "        if start_index is not None:    \n",
    "            pass\n",
    "        \n",
    "        return(start_index)\n",
    "    \n",
    "    for i in range(2, n+1):\n",
    "        start_index = search_start_index(A[n-i], i)\n",
    "        if start_index is None:\n",
    "            continue\n",
    "        for j in range(start_index, n):\n",
    "            if A[j]/A[n-i] >= k:\n",
    "                I[n-i] = j\n",
    "                break\n",
    "    return(I)"
   ]
  },
  {
   "cell_type": "markdown",
   "metadata": {},
   "source": [
    "# Evaluation"
   ]
  },
  {
   "cell_type": "code",
   "execution_count": 14,
   "metadata": {},
   "outputs": [],
   "source": [
    "import numpy as np\n",
    "import matplotlib.pyplot as plt\n",
    "import time"
   ]
  },
  {
   "cell_type": "code",
   "execution_count": 59,
   "metadata": {},
   "outputs": [
    {
     "name": "stdout",
     "output_type": "stream",
     "text": [
      "[337 944 409 630 385 446 115 830 487 895 767 559  84 898 248 525]\n",
      "[1, None, 7, None, 7, 9, 7, None, None, None, None, None, 13, None, 15, None]\n",
      "[1, None, 7, None, 7, 9, 7, None, None, None, None, None, 13, None, 15, None]\n",
      "[1, None, 7, None, 7, 9, 7, None, None, None, None, None, 13, None, 15, None]\n"
     ]
    }
   ],
   "source": [
    "A = np.random.randint(1, 1000, 16)\n",
    "print(A)\n",
    "print(index_larger_elements_1(A))\n",
    "print(index_larger_elements_3(A))\n",
    "print(index_larger_elements_4(A))"
   ]
  },
  {
   "cell_type": "code",
   "execution_count": 60,
   "metadata": {},
   "outputs": [],
   "source": [
    "def eval_index_larger_elements(fn, n_list, n_iters=10):\n",
    "    \n",
    "    n_max = max(n_list)\n",
    "    \n",
    "    t = {}\n",
    "\n",
    "    for n in n_list:\n",
    "        t[n] = []\n",
    "        for i in range(10):\n",
    "            A = np.random.randint(1, 1000, n)\n",
    "            start_time = time.time()\n",
    "            I = fn(A)\n",
    "            end_time = time.time()\n",
    "            t[n].append(end_time-start_time)\n",
    "\n",
    "    mean_times = [np.mean(times) for times in t.values()]\n",
    "    \n",
    "    return(mean_times)"
   ]
  },
  {
   "cell_type": "code",
   "execution_count": 61,
   "metadata": {},
   "outputs": [],
   "source": [
    "n_max = 1500\n",
    "n_list = np.arange(1, n_max, 100)\n",
    "\n",
    "mean_times_1 = eval_index_larger_elements(index_larger_elements_1, n_list)\n",
    "mean_times_3 = eval_index_larger_elements(index_larger_elements_3, n_list)\n",
    "mean_times_4 = eval_index_larger_elements(index_larger_elements_4, n_list)"
   ]
  },
  {
   "cell_type": "code",
   "execution_count": 62,
   "metadata": {},
   "outputs": [
    {
     "data": {
      "image/png": "[encoded data removed]",
      "text/plain": [
       "<Figure size 648x360 with 1 Axes>"
      ]
     },
     "metadata": {
      "needs_background": "light"
     },
     "output_type": "display_data"
    }
   ],
   "source": [
    "fig, ax = plt.subplots(1, 1, figsize=(9, 5))\n",
    "\n",
    "ax.plot(n_list, mean_times_1)\n",
    "ax.plot(n_list, mean_times_3)\n",
    "ax.plot(n_list, mean_times_4)\n",
    "# ax.plot(n_list, (n_list*np.log(n_list))*(max(mean_times_4)/(n_max*np.log(n_max))))\n",
    "\n",
    "#ax.legend(['Empirical', 'Theoretical'])\n",
    "\n",
    "ax.legend(['1', '3', '4'])\n",
    "\n",
    "fig.tight_layout()"
   ]
  },
  {
   "cell_type": "markdown",
   "metadata": {},
   "source": [
    "# $n \\log n$"
   ]
  },
  {
   "cell_type": "code",
   "execution_count": 31,
   "metadata": {},
   "outputs": [
    {
     "data": {
      "image/png": "[encoded data removed]",
      "text/plain": [
       "<Figure size 576x576 with 1 Axes>"
      ]
     },
     "metadata": {
      "needs_background": "light"
     },
     "output_type": "display_data"
    }
   ],
   "source": [
    "fig, ax = plt.subplots(1, 1, figsize=(8, 8))\n",
    "\n",
    "n_list = np.arange(1, 1000000, 1000)\n",
    "ax.plot(n_list, n_list)\n",
    "ax.plot(n_list, np.log(n_list))\n",
    "ax.plot(n_list, n_list*np.log(n_list))\n",
    "\n",
    "ax.legend(['$n$', '$\\log n$', '$n\\log n$'])\n",
    "\n",
    "fig.tight_layout()"
   ]
  },
  {
   "cell_type": "code",
   "execution_count": null,
   "metadata": {},
   "outputs": [],
   "source": []
  }
 ],
 "metadata": {
  "kernelspec": {
   "display_name": "Python 3",
   "language": "python",
   "name": "python3"
  },
  "toc": {
   "base_numbering": 1,
   "nav_menu": {},
   "number_sections": true,
   "sideBar": true,
   "skip_h1_title": false,
   "title_cell": "Table of Contents",
   "title_sidebar": "Contents",
   "toc_cell": false,
   "toc_position": {},
   "toc_section_display": true,
   "toc_window_display": false
  },
  "varInspector": {
   "cols": {
    "lenName": 16,
    "lenType": 16,
    "lenVar": 40
   },
   "kernels_config": {
    "python": {
     "delete_cmd_postfix": "",
     "delete_cmd_prefix": "del ",
     "library": "var_list.py",
     "varRefreshCmd": "print(var_dic_list())"
    },
    "r": {
     "delete_cmd_postfix": ") ",
     "delete_cmd_prefix": "rm(",
     "library": "var_list.r",
     "varRefreshCmd": "cat(var_dic_list()) "
    }
   },
   "types_to_exclude": [
    "module",
    "function",
    "builtin_function_or_method",
    "instance",
    "_Feature"
   ],
   "window_display": false
  }
 },
 "nbformat": 4,
 "nbformat_minor": 2
}
